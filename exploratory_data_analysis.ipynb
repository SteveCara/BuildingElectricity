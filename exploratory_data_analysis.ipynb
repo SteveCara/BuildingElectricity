{
 "cells": [
  {
   "cell_type": "code",
   "execution_count": 40,
   "id": "3bbb5cc8",
   "metadata": {},
   "outputs": [],
   "source": [
    "import pandas as pd\n",
    "import numpy as np\n",
    "import matplotlib.pyplot as plt\n",
    "import seaborn as sns"
   ]
  },
  {
   "cell_type": "code",
   "execution_count": 41,
   "id": "ccd33701",
   "metadata": {},
   "outputs": [],
   "source": [
    "# Import dataset\n",
    "dataset = pd.read_csv('cleaned_dataset.csv')"
   ]
  },
  {
   "cell_type": "code",
   "execution_count": 42,
   "id": "f78ac54e",
   "metadata": {},
   "outputs": [],
   "source": [
    "# Convert dataset to pandas DataFrame\n",
    "df = pd.DataFrame(dataset)"
   ]
  },
  {
   "cell_type": "code",
   "execution_count": 43,
   "id": "903946c4",
   "metadata": {},
   "outputs": [
    {
     "data": {
      "text/html": [
       "<div>\n",
       "<style scoped>\n",
       "    .dataframe tbody tr th:only-of-type {\n",
       "        vertical-align: middle;\n",
       "    }\n",
       "\n",
       "    .dataframe tbody tr th {\n",
       "        vertical-align: top;\n",
       "    }\n",
       "\n",
       "    .dataframe thead th {\n",
       "        text-align: right;\n",
       "    }\n",
       "</style>\n",
       "<table border=\"1\" class=\"dataframe\">\n",
       "  <thead>\n",
       "    <tr style=\"text-align: right;\">\n",
       "      <th></th>\n",
       "      <th>BuildingType</th>\n",
       "      <th>PrimaryPropertyType</th>\n",
       "      <th>City</th>\n",
       "      <th>State</th>\n",
       "      <th>ZipCode</th>\n",
       "      <th>CouncilDistrictCode</th>\n",
       "      <th>Neighborhood</th>\n",
       "      <th>Latitude</th>\n",
       "      <th>Longitude</th>\n",
       "      <th>YearBuilt</th>\n",
       "      <th>NumberofFloors</th>\n",
       "      <th>PropertyGFABuilding(s)</th>\n",
       "      <th>Electricity(kWh)</th>\n",
       "    </tr>\n",
       "  </thead>\n",
       "  <tbody>\n",
       "    <tr>\n",
       "      <th>0</th>\n",
       "      <td>NonResidential</td>\n",
       "      <td>Hotel</td>\n",
       "      <td>Seattle</td>\n",
       "      <td>WA</td>\n",
       "      <td>98101.0</td>\n",
       "      <td>7</td>\n",
       "      <td>DOWNTOWN</td>\n",
       "      <td>47.61220</td>\n",
       "      <td>-122.33799</td>\n",
       "      <td>1927</td>\n",
       "      <td>12</td>\n",
       "      <td>88434</td>\n",
       "      <td>1.156514e+06</td>\n",
       "    </tr>\n",
       "    <tr>\n",
       "      <th>1</th>\n",
       "      <td>NonResidential</td>\n",
       "      <td>Hotel</td>\n",
       "      <td>Seattle</td>\n",
       "      <td>WA</td>\n",
       "      <td>98101.0</td>\n",
       "      <td>7</td>\n",
       "      <td>DOWNTOWN</td>\n",
       "      <td>47.61317</td>\n",
       "      <td>-122.33393</td>\n",
       "      <td>1996</td>\n",
       "      <td>11</td>\n",
       "      <td>88502</td>\n",
       "      <td>9.504252e+05</td>\n",
       "    </tr>\n",
       "    <tr>\n",
       "      <th>2</th>\n",
       "      <td>NonResidential</td>\n",
       "      <td>Hotel</td>\n",
       "      <td>Seattle</td>\n",
       "      <td>WA</td>\n",
       "      <td>98101.0</td>\n",
       "      <td>7</td>\n",
       "      <td>DOWNTOWN</td>\n",
       "      <td>47.61393</td>\n",
       "      <td>-122.33810</td>\n",
       "      <td>1969</td>\n",
       "      <td>41</td>\n",
       "      <td>759392</td>\n",
       "      <td>1.451544e+07</td>\n",
       "    </tr>\n",
       "    <tr>\n",
       "      <th>3</th>\n",
       "      <td>NonResidential</td>\n",
       "      <td>Hotel</td>\n",
       "      <td>Seattle</td>\n",
       "      <td>WA</td>\n",
       "      <td>98101.0</td>\n",
       "      <td>7</td>\n",
       "      <td>DOWNTOWN</td>\n",
       "      <td>47.61412</td>\n",
       "      <td>-122.33664</td>\n",
       "      <td>1926</td>\n",
       "      <td>10</td>\n",
       "      <td>61320</td>\n",
       "      <td>8.115253e+05</td>\n",
       "    </tr>\n",
       "    <tr>\n",
       "      <th>4</th>\n",
       "      <td>NonResidential</td>\n",
       "      <td>Hotel</td>\n",
       "      <td>Seattle</td>\n",
       "      <td>WA</td>\n",
       "      <td>98121.0</td>\n",
       "      <td>7</td>\n",
       "      <td>DOWNTOWN</td>\n",
       "      <td>47.61375</td>\n",
       "      <td>-122.34047</td>\n",
       "      <td>1980</td>\n",
       "      <td>18</td>\n",
       "      <td>113580</td>\n",
       "      <td>1.573449e+06</td>\n",
       "    </tr>\n",
       "  </tbody>\n",
       "</table>\n",
       "</div>"
      ],
      "text/plain": [
       "     BuildingType PrimaryPropertyType     City State  ZipCode  \\\n",
       "0  NonResidential               Hotel  Seattle    WA  98101.0   \n",
       "1  NonResidential               Hotel  Seattle    WA  98101.0   \n",
       "2  NonResidential               Hotel  Seattle    WA  98101.0   \n",
       "3  NonResidential               Hotel  Seattle    WA  98101.0   \n",
       "4  NonResidential               Hotel  Seattle    WA  98121.0   \n",
       "\n",
       "   CouncilDistrictCode Neighborhood  Latitude  Longitude  YearBuilt  \\\n",
       "0                    7     DOWNTOWN  47.61220 -122.33799       1927   \n",
       "1                    7     DOWNTOWN  47.61317 -122.33393       1996   \n",
       "2                    7     DOWNTOWN  47.61393 -122.33810       1969   \n",
       "3                    7     DOWNTOWN  47.61412 -122.33664       1926   \n",
       "4                    7     DOWNTOWN  47.61375 -122.34047       1980   \n",
       "\n",
       "   NumberofFloors  PropertyGFABuilding(s)  Electricity(kWh)  \n",
       "0              12                   88434      1.156514e+06  \n",
       "1              11                   88502      9.504252e+05  \n",
       "2              41                  759392      1.451544e+07  \n",
       "3              10                   61320      8.115253e+05  \n",
       "4              18                  113580      1.573449e+06  "
      ]
     },
     "execution_count": 43,
     "metadata": {},
     "output_type": "execute_result"
    }
   ],
   "source": [
    "# Inspect the data\n",
    "df.head()"
   ]
  },
  {
   "cell_type": "code",
   "execution_count": 44,
   "id": "355b79d6",
   "metadata": {},
   "outputs": [
    {
     "data": {
      "text/html": [
       "<div>\n",
       "<style scoped>\n",
       "    .dataframe tbody tr th:only-of-type {\n",
       "        vertical-align: middle;\n",
       "    }\n",
       "\n",
       "    .dataframe tbody tr th {\n",
       "        vertical-align: top;\n",
       "    }\n",
       "\n",
       "    .dataframe thead th {\n",
       "        text-align: right;\n",
       "    }\n",
       "</style>\n",
       "<table border=\"1\" class=\"dataframe\">\n",
       "  <thead>\n",
       "    <tr style=\"text-align: right;\">\n",
       "      <th></th>\n",
       "      <th>ZipCode</th>\n",
       "      <th>CouncilDistrictCode</th>\n",
       "      <th>Latitude</th>\n",
       "      <th>Longitude</th>\n",
       "      <th>YearBuilt</th>\n",
       "      <th>NumberofFloors</th>\n",
       "      <th>PropertyGFABuilding(s)</th>\n",
       "      <th>Electricity(kWh)</th>\n",
       "    </tr>\n",
       "  </thead>\n",
       "  <tbody>\n",
       "    <tr>\n",
       "      <th>count</th>\n",
       "      <td>3351.000000</td>\n",
       "      <td>3351.000000</td>\n",
       "      <td>3351.000000</td>\n",
       "      <td>3351.000000</td>\n",
       "      <td>3351.000000</td>\n",
       "      <td>3351.000000</td>\n",
       "      <td>3.351000e+03</td>\n",
       "      <td>3.351000e+03</td>\n",
       "    </tr>\n",
       "    <tr>\n",
       "      <th>mean</th>\n",
       "      <td>98116.960310</td>\n",
       "      <td>4.443151</td>\n",
       "      <td>47.624028</td>\n",
       "      <td>-122.334805</td>\n",
       "      <td>1968.556849</td>\n",
       "      <td>4.729931</td>\n",
       "      <td>8.732220e+04</td>\n",
       "      <td>1.090909e+06</td>\n",
       "    </tr>\n",
       "    <tr>\n",
       "      <th>std</th>\n",
       "      <td>18.631827</td>\n",
       "      <td>2.120329</td>\n",
       "      <td>0.047693</td>\n",
       "      <td>0.027124</td>\n",
       "      <td>33.107013</td>\n",
       "      <td>5.508490</td>\n",
       "      <td>2.086344e+05</td>\n",
       "      <td>4.362413e+06</td>\n",
       "    </tr>\n",
       "    <tr>\n",
       "      <th>min</th>\n",
       "      <td>98006.000000</td>\n",
       "      <td>1.000000</td>\n",
       "      <td>47.499170</td>\n",
       "      <td>-122.414250</td>\n",
       "      <td>1900.000000</td>\n",
       "      <td>0.000000</td>\n",
       "      <td>3.636000e+03</td>\n",
       "      <td>-3.382680e+04</td>\n",
       "    </tr>\n",
       "    <tr>\n",
       "      <th>25%</th>\n",
       "      <td>98105.000000</td>\n",
       "      <td>3.000000</td>\n",
       "      <td>47.600025</td>\n",
       "      <td>-122.350505</td>\n",
       "      <td>1948.000000</td>\n",
       "      <td>2.000000</td>\n",
       "      <td>2.792750e+04</td>\n",
       "      <td>1.883704e+05</td>\n",
       "    </tr>\n",
       "    <tr>\n",
       "      <th>50%</th>\n",
       "      <td>98115.000000</td>\n",
       "      <td>4.000000</td>\n",
       "      <td>47.618660</td>\n",
       "      <td>-122.332580</td>\n",
       "      <td>1975.000000</td>\n",
       "      <td>4.000000</td>\n",
       "      <td>4.342200e+04</td>\n",
       "      <td>3.464570e+05</td>\n",
       "    </tr>\n",
       "    <tr>\n",
       "      <th>75%</th>\n",
       "      <td>98122.000000</td>\n",
       "      <td>7.000000</td>\n",
       "      <td>47.657045</td>\n",
       "      <td>-122.319557</td>\n",
       "      <td>1997.000000</td>\n",
       "      <td>5.000000</td>\n",
       "      <td>8.474450e+04</td>\n",
       "      <td>8.322397e+05</td>\n",
       "    </tr>\n",
       "    <tr>\n",
       "      <th>max</th>\n",
       "      <td>98272.000000</td>\n",
       "      <td>7.000000</td>\n",
       "      <td>47.733870</td>\n",
       "      <td>-122.220966</td>\n",
       "      <td>2015.000000</td>\n",
       "      <td>99.000000</td>\n",
       "      <td>9.320156e+06</td>\n",
       "      <td>1.925775e+08</td>\n",
       "    </tr>\n",
       "  </tbody>\n",
       "</table>\n",
       "</div>"
      ],
      "text/plain": [
       "            ZipCode  CouncilDistrictCode     Latitude    Longitude  \\\n",
       "count   3351.000000          3351.000000  3351.000000  3351.000000   \n",
       "mean   98116.960310             4.443151    47.624028  -122.334805   \n",
       "std       18.631827             2.120329     0.047693     0.027124   \n",
       "min    98006.000000             1.000000    47.499170  -122.414250   \n",
       "25%    98105.000000             3.000000    47.600025  -122.350505   \n",
       "50%    98115.000000             4.000000    47.618660  -122.332580   \n",
       "75%    98122.000000             7.000000    47.657045  -122.319557   \n",
       "max    98272.000000             7.000000    47.733870  -122.220966   \n",
       "\n",
       "         YearBuilt  NumberofFloors  PropertyGFABuilding(s)  Electricity(kWh)  \n",
       "count  3351.000000     3351.000000            3.351000e+03      3.351000e+03  \n",
       "mean   1968.556849        4.729931            8.732220e+04      1.090909e+06  \n",
       "std      33.107013        5.508490            2.086344e+05      4.362413e+06  \n",
       "min    1900.000000        0.000000            3.636000e+03     -3.382680e+04  \n",
       "25%    1948.000000        2.000000            2.792750e+04      1.883704e+05  \n",
       "50%    1975.000000        4.000000            4.342200e+04      3.464570e+05  \n",
       "75%    1997.000000        5.000000            8.474450e+04      8.322397e+05  \n",
       "max    2015.000000       99.000000            9.320156e+06      1.925775e+08  "
      ]
     },
     "execution_count": 44,
     "metadata": {},
     "output_type": "execute_result"
    }
   ],
   "source": [
    "# Describe the data\n",
    "df.describe()"
   ]
  },
  {
   "cell_type": "code",
   "execution_count": 45,
   "id": "1f49d6fc",
   "metadata": {},
   "outputs": [
    {
     "name": "stdout",
     "output_type": "stream",
     "text": [
      "<class 'pandas.core.frame.DataFrame'>\n",
      "RangeIndex: 3351 entries, 0 to 3350\n",
      "Data columns (total 13 columns):\n",
      " #   Column                  Non-Null Count  Dtype  \n",
      "---  ------                  --------------  -----  \n",
      " 0   BuildingType            3351 non-null   object \n",
      " 1   PrimaryPropertyType     3351 non-null   object \n",
      " 2   City                    3351 non-null   object \n",
      " 3   State                   3351 non-null   object \n",
      " 4   ZipCode                 3351 non-null   float64\n",
      " 5   CouncilDistrictCode     3351 non-null   int64  \n",
      " 6   Neighborhood            3351 non-null   object \n",
      " 7   Latitude                3351 non-null   float64\n",
      " 8   Longitude               3351 non-null   float64\n",
      " 9   YearBuilt               3351 non-null   int64  \n",
      " 10  NumberofFloors          3351 non-null   int64  \n",
      " 11  PropertyGFABuilding(s)  3351 non-null   int64  \n",
      " 12  Electricity(kWh)        3351 non-null   float64\n",
      "dtypes: float64(4), int64(4), object(5)\n",
      "memory usage: 340.5+ KB\n"
     ]
    }
   ],
   "source": [
    "# Information\n",
    "df.info()"
   ]
  },
  {
   "cell_type": "code",
   "execution_count": 46,
   "id": "48a3f879",
   "metadata": {},
   "outputs": [
    {
     "data": {
      "text/plain": [
       "<AxesSubplot:>"
      ]
     },
     "execution_count": 46,
     "metadata": {},
     "output_type": "execute_result"
    },
    {
     "data": {
      "image/png": "[encoded data removed]",
      "text/plain": [
       "<Figure size 432x288 with 2 Axes>"
      ]
     },
     "metadata": {
      "needs_background": "light"
     },
     "output_type": "display_data"
    }
   ],
   "source": [
    "# Inspect the correlation between variables\n",
    "sns.heatmap(df.corr(), cmap=\"icefire\")\n",
    "\n",
    "# Plot shows that PorpertyGFA and Electricity are highly correlated\n",
    "# High correlation between CouncilDistrictCode and Latitude may \n",
    "# present challenges due to multicolinearity\n",
    "# Lasso & Ridge Regression may be suitable options if multicolinearity\n",
    "# presents challenges"
   ]
  },
  {
   "cell_type": "code",
   "execution_count": 47,
   "id": "483051d4",
   "metadata": {},
   "outputs": [
    {
     "data": {
      "text/plain": [
       "array([[<AxesSubplot:title={'center':'ZipCode'}>,\n",
       "        <AxesSubplot:title={'center':'CouncilDistrictCode'}>,\n",
       "        <AxesSubplot:title={'center':'Latitude'}>],\n",
       "       [<AxesSubplot:title={'center':'Longitude'}>,\n",
       "        <AxesSubplot:title={'center':'YearBuilt'}>,\n",
       "        <AxesSubplot:title={'center':'NumberofFloors'}>],\n",
       "       [<AxesSubplot:title={'center':'PropertyGFABuilding(s)'}>,\n",
       "        <AxesSubplot:title={'center':'Electricity(kWh)'}>,\n",
       "        <AxesSubplot:>]], dtype=object)"
      ]
     },
     "execution_count": 47,
     "metadata": {},
     "output_type": "execute_result"
    },
    {
     "data": {
      "image/png": "[encoded data removed]",
      "text/plain": [
       "<Figure size 720x720 with 9 Axes>"
      ]
     },
     "metadata": {
      "needs_background": "light"
     },
     "output_type": "display_data"
    }
   ],
   "source": [
    "# Plot histograms for columns with numerical data\n",
    "df.hist(figsize=(10,10))"
   ]
  },
  {
   "cell_type": "code",
   "execution_count": 48,
   "id": "623ae44b",
   "metadata": {},
   "outputs": [],
   "source": [
    "# Select categorical data\n",
    "df_cat = df.select_dtypes(include=['object'])"
   ]
  },
  {
   "cell_type": "code",
   "execution_count": 49,
   "id": "26abc4d9",
   "metadata": {},
   "outputs": [
    {
     "data": {
      "image/png": "[encoded data removed]",
      "text/plain": [
       "<Figure size 432x288 with 1 Axes>"
      ]
     },
     "metadata": {
      "needs_background": "light"
     },
     "output_type": "display_data"
    },
    {
     "data": {
      "image/png": "[encoded data removed]",
      "text/plain": [
       "<Figure size 432x288 with 1 Axes>"
      ]
     },
     "metadata": {
      "needs_background": "light"
     },
     "output_type": "display_data"
    },
    {
     "data": {
      "image/png": "[encoded data removed]",
      "text/plain": [
       "<Figure size 432x288 with 1 Axes>"
      ]
     },
     "metadata": {
      "needs_background": "light"
     },
     "output_type": "display_data"
    },
    {
     "data": {
      "image/png": "[encoded data removed]",
      "text/plain": [
       "<Figure size 432x288 with 1 Axes>"
      ]
     },
     "metadata": {
      "needs_background": "light"
     },
     "output_type": "display_data"
    },
    {
     "data": {
      "image/png": "[encoded data removed]",
      "text/plain": [
       "<Figure size 432x288 with 1 Axes>"
      ]
     },
     "metadata": {
      "needs_background": "light"
     },
     "output_type": "display_data"
    }
   ],
   "source": [
    "for i in df_cat.columns:\n",
    "    cat_num = df_cat[i].value_counts()\n",
    "    sns.barplot(x=cat_num.index, y=cat_num)\n",
    "    plt.show()"
   ]
  },
  {
   "cell_type": "code",
   "execution_count": 50,
   "id": "860937cf",
   "metadata": {},
   "outputs": [
    {
     "data": {
      "text/html": [
       "<div>\n",
       "<style scoped>\n",
       "    .dataframe tbody tr th:only-of-type {\n",
       "        vertical-align: middle;\n",
       "    }\n",
       "\n",
       "    .dataframe tbody tr th {\n",
       "        vertical-align: top;\n",
       "    }\n",
       "\n",
       "    .dataframe thead th {\n",
       "        text-align: right;\n",
       "    }\n",
       "</style>\n",
       "<table border=\"1\" class=\"dataframe\">\n",
       "  <thead>\n",
       "    <tr style=\"text-align: right;\">\n",
       "      <th></th>\n",
       "      <th>Electricity(kWh)</th>\n",
       "    </tr>\n",
       "    <tr>\n",
       "      <th>BuildingType</th>\n",
       "      <th></th>\n",
       "    </tr>\n",
       "  </thead>\n",
       "  <tbody>\n",
       "    <tr>\n",
       "      <th>Campus</th>\n",
       "      <td>1.432787e+07</td>\n",
       "    </tr>\n",
       "    <tr>\n",
       "      <th>Multifamily HR (10+)</th>\n",
       "      <td>1.679325e+06</td>\n",
       "    </tr>\n",
       "    <tr>\n",
       "      <th>Multifamily LR (1-4)</th>\n",
       "      <td>2.953045e+05</td>\n",
       "    </tr>\n",
       "    <tr>\n",
       "      <th>Multifamily MR (5-9)</th>\n",
       "      <td>5.555060e+05</td>\n",
       "    </tr>\n",
       "    <tr>\n",
       "      <th>NonResidential</th>\n",
       "      <td>1.616276e+06</td>\n",
       "    </tr>\n",
       "    <tr>\n",
       "      <th>Nonresidential COS</th>\n",
       "      <td>1.377713e+06</td>\n",
       "    </tr>\n",
       "    <tr>\n",
       "      <th>Nonresidential WA</th>\n",
       "      <td>9.322447e+05</td>\n",
       "    </tr>\n",
       "    <tr>\n",
       "      <th>SPS-District K-12</th>\n",
       "      <td>5.486694e+05</td>\n",
       "    </tr>\n",
       "  </tbody>\n",
       "</table>\n",
       "</div>"
      ],
      "text/plain": [
       "                      Electricity(kWh)\n",
       "BuildingType                          \n",
       "Campus                    1.432787e+07\n",
       "Multifamily HR (10+)      1.679325e+06\n",
       "Multifamily LR (1-4)      2.953045e+05\n",
       "Multifamily MR (5-9)      5.555060e+05\n",
       "NonResidential            1.616276e+06\n",
       "Nonresidential COS        1.377713e+06\n",
       "Nonresidential WA         9.322447e+05\n",
       "SPS-District K-12         5.486694e+05"
      ]
     },
     "execution_count": 50,
     "metadata": {},
     "output_type": "execute_result"
    }
   ],
   "source": [
    "pd.pivot_table(df, index='BuildingType', values='Electricity(kWh)')"
   ]
  }
 ],
 "metadata": {
  "kernelspec": {
   "display_name": "Python 3.9.7 64-bit ('data_science': conda)",
   "language": "python",
   "name": "python397jvsc74a57bd0da69f493e92b02f6a43f3b18e5c7148075fdad5d4facde05daa525bead088b00"
  },
  "language_info": {
   "codemirror_mode": {
    "name": "ipython",
    "version": 3
   },
   "file_extension": ".py",
   "mimetype": "text/x-python",
   "name": "python",
   "nbconvert_exporter": "python",
   "pygments_lexer": "ipython3",
   "version": "3.9.7"
  }
 },
 "nbformat": 4,
 "nbformat_minor": 5
}
